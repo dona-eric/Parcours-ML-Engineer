{
 "cells": [
  {
   "cell_type": "markdown",
   "id": "d281b85f",
   "metadata": {},
   "source": [
    "### Scatter"
   ]
  },
  {
   "cell_type": "code",
   "execution_count": 4,
   "id": "77edb3aa",
   "metadata": {},
   "outputs": [],
   "source": [
    "import plotly.express as px\n",
    "import plotly.graph_objects as go\n",
    "import numpy as np\n",
    "from dash import Dash, html, dcc, Input, Output\n",
    "import plotly.io as pio\n",
    "pio.renderers.default = 'browser'\n",
    "!pip install nbformat>=4.2.0 \n",
    "age_array = np.random.randint(25, 30, 45)\n",
    "income_array = np.random.randint(300000, 350000, 500000)\n",
    "\n",
    "fig = go.Figure()\n",
    "\n",
    "fig.add_trace(go.Scatter(x = age_array, y= income_array, mode='markers', marker=dict(color='blue')))\n",
    "fig.update_layout(title=\"Age vs Income\", xaxis_title=\"Age\", yaxis_title=\"Income\")\n",
    "fig.show()"
   ]
  },
  {
   "cell_type": "markdown",
   "id": "5d22484e",
   "metadata": {},
   "source": [
    "### DashbOard with Dash"
   ]
  },
  {
   "cell_type": "code",
   "execution_count": 5,
   "id": "b7c1bd70",
   "metadata": {},
   "outputs": [
    {
     "data": {
      "text/html": [
       "\n",
       "        <iframe\n",
       "            width=\"100%\"\n",
       "            height=\"650\"\n",
       "            src=\"http://127.0.0.1:8050/\"\n",
       "            frameborder=\"0\"\n",
       "            allowfullscreen\n",
       "            \n",
       "        ></iframe>\n",
       "        "
      ],
      "text/plain": [
       "<IPython.lib.display.IFrame at 0x7cd0c5007cb0>"
      ]
     },
     "metadata": {},
     "output_type": "display_data"
    }
   ],
   "source": [
    "age_array = np.random.randint(25, 30, 45)\n",
    "income_array = np.random.randint(300000, 350000, 500000)\n",
    "\n",
    "fig = go.Figure()\n",
    "fig.add_trace(go.Scatter(x=age_array, y=income_array, mode='markers', marker=dict(color='blue')))\n",
    "\n",
    "app = Dash(__name__)\n",
    "\n",
    "app.layout = html.Div(\n",
    "    children=[html.H1(\"Age vs Income\", \n",
    "                      style={\"color\":\"1a2c1b\",\n",
    "                             \"font_size\":40,\n",
    "                             \"textAlign\":\"center\"\n",
    "                             }),\n",
    "            html.P('Age en fonction du salaire réquis', style={\n",
    "                'textAlign':\"center\",\n",
    "                \"color\":\"1a1b1c\",\n",
    "                \"font-size\":20\n",
    "\n",
    "            }),\n",
    "            dcc.Graph(figure=fig),\n",
    "                             ]\n",
    ")\n",
    "\n",
    "if __name__=='__main__':\n",
    "    app.run()"
   ]
  }
 ],
 "metadata": {
  "kernelspec": {
   "display_name": "env_news",
   "language": "python",
   "name": "python3"
  },
  "language_info": {
   "codemirror_mode": {
    "name": "ipython",
    "version": 3
   },
   "file_extension": ".py",
   "mimetype": "text/x-python",
   "name": "python",
   "nbconvert_exporter": "python",
   "pygments_lexer": "ipython3",
   "version": "3.13.3"
  }
 },
 "nbformat": 4,
 "nbformat_minor": 5
}
