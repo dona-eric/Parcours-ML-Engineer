{
 "cells": [
  {
   "cell_type": "markdown",
   "id": "d281b85f",
   "metadata": {},
   "source": [
    "### Scatter"
   ]
  },
  {
   "cell_type": "code",
   "execution_count": null,
   "id": "77edb3aa",
   "metadata": {},
   "outputs": [],
   "source": [
    "import plotly.express as px\n",
    "import plotly.graph_objects as go\n",
    "import numpy as np\n",
    "from dash import Dash, html, dcc, Input, Output\n",
    "import plotly.io as pio\n",
    "pio.renderers.default = 'browser'\n",
    "%pip install nbformat>=4.2.0 \n",
    "age_array = np.random.randint(25, 30, 45)\n",
    "income_array = np.random.randint(300000, 350000, 500000)\n",
    "\n",
    "fig = go.Figure()\n",
    "\n",
    "fig.add_trace(go.Scatter(x = age_array, y= income_array, mode='markers', marker=dict(color='blue')))\n",
    "fig.update_layout(title=\"Age vs Income\", xaxis_title=\"Age\", yaxis_title=\"Income\")\n",
    "fig.show()"
   ]
  },
  {
   "cell_type": "markdown",
   "id": "5d22484e",
   "metadata": {},
   "source": [
    "### DashbOard with Dash"
   ]
  },
  {
   "cell_type": "code",
   "execution_count": 2,
   "id": "b7c1bd70",
   "metadata": {},
   "outputs": [
    {
     "name": "stderr",
     "output_type": "stream",
     "text": [
      "Address already in use\n",
      "Port 8050 is in use by another program. Either identify and stop that program, or start the server with a different port.\n"
     ]
    },
    {
     "ename": "SystemExit",
     "evalue": "1",
     "output_type": "error",
     "traceback": [
      "An exception has occurred, use %tb to see the full traceback.\n",
      "\u001b[31mSystemExit\u001b[39m\u001b[31m:\u001b[39m 1\n"
     ]
    },
    {
     "name": "stderr",
     "output_type": "stream",
     "text": [
      "/home/dona-erick/Parcours-ML-Engineer/env_news/lib/python3.13/site-packages/IPython/core/interactiveshell.py:3680: UserWarning:\n",
      "\n",
      "To exit: use 'exit', 'quit', or Ctrl-D.\n",
      "\n"
     ]
    }
   ],
   "source": [
    "age_array = np.random.randint(25, 30, 45)\n",
    "income_array = np.random.randint(300000, 350000, 500000)\n",
    "\n",
    "fig = go.Figure()\n",
    "fig.add_trace(go.Scatter(x=age_array, y=income_array, mode='markers', marker=dict(color='blue')))\n",
    "\n",
    "app = Dash(__name__)\n",
    "\n",
    "app.layout = html.Div(\n",
    "    children=[html.H1(\"Age vs Income\", \n",
    "                      style={\"color\":\"1a2c1b\",\n",
    "                             \"font_size\":40,\n",
    "                             \"textAlign\":\"center\"\n",
    "                             }),\n",
    "            html.P('Age en fonction du salaire réquis', style={\n",
    "                'textAlign':\"center\",\n",
    "                \"color\":\"1a1b1c\",\n",
    "                \"font-size\":20\n",
    "\n",
    "            }),\n",
    "            dcc.Graph(figure=fig),\n",
    "                             ]\n",
    ")\n",
    "\n",
    "if __name__=='__main__':\n",
    "    app.run()"
   ]
  },
  {
   "cell_type": "code",
   "execution_count": 4,
   "id": "8449132f",
   "metadata": {},
   "outputs": [
    {
     "data": {
      "application/vnd.microsoft.datawrangler.viewer.v0+json": {
       "columns": [
        {
         "name": "index",
         "rawType": "int64",
         "type": "integer"
        },
        {
         "name": "Patient_ID",
         "rawType": "object",
         "type": "string"
        },
        {
         "name": "Age",
         "rawType": "int64",
         "type": "integer"
        },
        {
         "name": "Gender",
         "rawType": "object",
         "type": "string"
        },
        {
         "name": "Country_Region",
         "rawType": "object",
         "type": "string"
        },
        {
         "name": "Year",
         "rawType": "int64",
         "type": "integer"
        },
        {
         "name": "Genetic_Risk",
         "rawType": "float64",
         "type": "float"
        },
        {
         "name": "Air_Pollution",
         "rawType": "float64",
         "type": "float"
        },
        {
         "name": "Alcohol_Use",
         "rawType": "float64",
         "type": "float"
        },
        {
         "name": "Smoking",
         "rawType": "float64",
         "type": "float"
        },
        {
         "name": "Obesity_Level",
         "rawType": "float64",
         "type": "float"
        },
        {
         "name": "Cancer_Type",
         "rawType": "object",
         "type": "string"
        },
        {
         "name": "Cancer_Stage",
         "rawType": "object",
         "type": "string"
        },
        {
         "name": "Treatment_Cost_USD",
         "rawType": "float64",
         "type": "float"
        },
        {
         "name": "Survival_Years",
         "rawType": "float64",
         "type": "float"
        },
        {
         "name": "Target_Severity_Score",
         "rawType": "float64",
         "type": "float"
        }
       ],
       "ref": "c5cd8fa4-c5bd-4ea0-ade0-efba53bb1544",
       "rows": [
        [
         "0",
         "PT0000000",
         "71",
         "Male",
         "UK",
         "2021",
         "6.4",
         "2.8",
         "9.5",
         "0.9",
         "8.7",
         "Lung",
         "Stage III",
         "62913.44",
         "5.9",
         "4.92"
        ],
        [
         "1",
         "PT0000001",
         "34",
         "Male",
         "China",
         "2021",
         "1.3",
         "4.5",
         "3.7",
         "3.9",
         "6.3",
         "Leukemia",
         "Stage 0",
         "12573.41",
         "4.7",
         "4.65"
        ],
        [
         "2",
         "PT0000002",
         "80",
         "Male",
         "Pakistan",
         "2023",
         "7.4",
         "7.9",
         "2.4",
         "4.7",
         "0.1",
         "Breast",
         "Stage II",
         "6984.33",
         "7.1",
         "5.84"
        ],
        [
         "3",
         "PT0000003",
         "40",
         "Male",
         "UK",
         "2015",
         "1.7",
         "2.9",
         "4.8",
         "3.5",
         "2.7",
         "Colon",
         "Stage I",
         "67446.25",
         "1.6",
         "3.12"
        ],
        [
         "4",
         "PT0000004",
         "43",
         "Female",
         "Brazil",
         "2017",
         "5.1",
         "2.8",
         "2.3",
         "6.7",
         "0.5",
         "Skin",
         "Stage III",
         "77977.12",
         "2.9",
         "3.62"
        ]
       ],
       "shape": {
        "columns": 15,
        "rows": 5
       }
      },
      "text/html": [
       "<div>\n",
       "<style scoped>\n",
       "    .dataframe tbody tr th:only-of-type {\n",
       "        vertical-align: middle;\n",
       "    }\n",
       "\n",
       "    .dataframe tbody tr th {\n",
       "        vertical-align: top;\n",
       "    }\n",
       "\n",
       "    .dataframe thead th {\n",
       "        text-align: right;\n",
       "    }\n",
       "</style>\n",
       "<table border=\"1\" class=\"dataframe\">\n",
       "  <thead>\n",
       "    <tr style=\"text-align: right;\">\n",
       "      <th></th>\n",
       "      <th>Patient_ID</th>\n",
       "      <th>Age</th>\n",
       "      <th>Gender</th>\n",
       "      <th>Country_Region</th>\n",
       "      <th>Year</th>\n",
       "      <th>Genetic_Risk</th>\n",
       "      <th>Air_Pollution</th>\n",
       "      <th>Alcohol_Use</th>\n",
       "      <th>Smoking</th>\n",
       "      <th>Obesity_Level</th>\n",
       "      <th>Cancer_Type</th>\n",
       "      <th>Cancer_Stage</th>\n",
       "      <th>Treatment_Cost_USD</th>\n",
       "      <th>Survival_Years</th>\n",
       "      <th>Target_Severity_Score</th>\n",
       "    </tr>\n",
       "  </thead>\n",
       "  <tbody>\n",
       "    <tr>\n",
       "      <th>0</th>\n",
       "      <td>PT0000000</td>\n",
       "      <td>71</td>\n",
       "      <td>Male</td>\n",
       "      <td>UK</td>\n",
       "      <td>2021</td>\n",
       "      <td>6.4</td>\n",
       "      <td>2.8</td>\n",
       "      <td>9.5</td>\n",
       "      <td>0.9</td>\n",
       "      <td>8.7</td>\n",
       "      <td>Lung</td>\n",
       "      <td>Stage III</td>\n",
       "      <td>62913.44</td>\n",
       "      <td>5.9</td>\n",
       "      <td>4.92</td>\n",
       "    </tr>\n",
       "    <tr>\n",
       "      <th>1</th>\n",
       "      <td>PT0000001</td>\n",
       "      <td>34</td>\n",
       "      <td>Male</td>\n",
       "      <td>China</td>\n",
       "      <td>2021</td>\n",
       "      <td>1.3</td>\n",
       "      <td>4.5</td>\n",
       "      <td>3.7</td>\n",
       "      <td>3.9</td>\n",
       "      <td>6.3</td>\n",
       "      <td>Leukemia</td>\n",
       "      <td>Stage 0</td>\n",
       "      <td>12573.41</td>\n",
       "      <td>4.7</td>\n",
       "      <td>4.65</td>\n",
       "    </tr>\n",
       "    <tr>\n",
       "      <th>2</th>\n",
       "      <td>PT0000002</td>\n",
       "      <td>80</td>\n",
       "      <td>Male</td>\n",
       "      <td>Pakistan</td>\n",
       "      <td>2023</td>\n",
       "      <td>7.4</td>\n",
       "      <td>7.9</td>\n",
       "      <td>2.4</td>\n",
       "      <td>4.7</td>\n",
       "      <td>0.1</td>\n",
       "      <td>Breast</td>\n",
       "      <td>Stage II</td>\n",
       "      <td>6984.33</td>\n",
       "      <td>7.1</td>\n",
       "      <td>5.84</td>\n",
       "    </tr>\n",
       "    <tr>\n",
       "      <th>3</th>\n",
       "      <td>PT0000003</td>\n",
       "      <td>40</td>\n",
       "      <td>Male</td>\n",
       "      <td>UK</td>\n",
       "      <td>2015</td>\n",
       "      <td>1.7</td>\n",
       "      <td>2.9</td>\n",
       "      <td>4.8</td>\n",
       "      <td>3.5</td>\n",
       "      <td>2.7</td>\n",
       "      <td>Colon</td>\n",
       "      <td>Stage I</td>\n",
       "      <td>67446.25</td>\n",
       "      <td>1.6</td>\n",
       "      <td>3.12</td>\n",
       "    </tr>\n",
       "    <tr>\n",
       "      <th>4</th>\n",
       "      <td>PT0000004</td>\n",
       "      <td>43</td>\n",
       "      <td>Female</td>\n",
       "      <td>Brazil</td>\n",
       "      <td>2017</td>\n",
       "      <td>5.1</td>\n",
       "      <td>2.8</td>\n",
       "      <td>2.3</td>\n",
       "      <td>6.7</td>\n",
       "      <td>0.5</td>\n",
       "      <td>Skin</td>\n",
       "      <td>Stage III</td>\n",
       "      <td>77977.12</td>\n",
       "      <td>2.9</td>\n",
       "      <td>3.62</td>\n",
       "    </tr>\n",
       "  </tbody>\n",
       "</table>\n",
       "</div>"
      ],
      "text/plain": [
       "  Patient_ID  Age  Gender Country_Region  Year  Genetic_Risk  Air_Pollution  \\\n",
       "0  PT0000000   71    Male             UK  2021           6.4            2.8   \n",
       "1  PT0000001   34    Male          China  2021           1.3            4.5   \n",
       "2  PT0000002   80    Male       Pakistan  2023           7.4            7.9   \n",
       "3  PT0000003   40    Male             UK  2015           1.7            2.9   \n",
       "4  PT0000004   43  Female         Brazil  2017           5.1            2.8   \n",
       "\n",
       "   Alcohol_Use  Smoking  Obesity_Level Cancer_Type Cancer_Stage  \\\n",
       "0          9.5      0.9            8.7        Lung    Stage III   \n",
       "1          3.7      3.9            6.3    Leukemia      Stage 0   \n",
       "2          2.4      4.7            0.1      Breast     Stage II   \n",
       "3          4.8      3.5            2.7       Colon      Stage I   \n",
       "4          2.3      6.7            0.5        Skin    Stage III   \n",
       "\n",
       "   Treatment_Cost_USD  Survival_Years  Target_Severity_Score  \n",
       "0            62913.44             5.9                   4.92  \n",
       "1            12573.41             4.7                   4.65  \n",
       "2             6984.33             7.1                   5.84  \n",
       "3            67446.25             1.6                   3.12  \n",
       "4            77977.12             2.9                   3.62  "
      ]
     },
     "execution_count": 4,
     "metadata": {},
     "output_type": "execute_result"
    }
   ],
   "source": [
    "import pandas as pd\n",
    "df = pd.read_csv('../Dash_Plotly/global_cancer_patients_2015_2024.csv')\n",
    "df.head()"
   ]
  }
 ],
 "metadata": {
  "kernelspec": {
   "display_name": "env_news",
   "language": "python",
   "name": "python3"
  },
  "language_info": {
   "codemirror_mode": {
    "name": "ipython",
    "version": 3
   },
   "file_extension": ".py",
   "mimetype": "text/x-python",
   "name": "python",
   "nbconvert_exporter": "python",
   "pygments_lexer": "ipython3",
   "version": "3.13.3"
  }
 },
 "nbformat": 4,
 "nbformat_minor": 5
}
